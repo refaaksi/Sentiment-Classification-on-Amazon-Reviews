{
  "nbformat": 4,
  "nbformat_minor": 0,
  "metadata": {
    "accelerator": "TPU",
    "colab": {
      "name": "NLP_Amazon_Reviews.ipynb",
      "provenance": [],
      "collapsed_sections": [],
      "mount_file_id": "1NE7kYJbTeM4yVX12fCzIY6qobbOKVeDt",
      "authorship_tag": "ABX9TyNEO1Azl4Ji+rpyCobPGf9z",
      "include_colab_link": true
    },
    "kernelspec": {
      "display_name": "Python 3",
      "name": "python3"
    },
    "language_info": {
      "name": "python"
    }
  },
  "cells": [
    {
      "cell_type": "markdown",
      "metadata": {
        "id": "view-in-github",
        "colab_type": "text"
      },
      "source": [
        "<a href=\"https://colab.research.google.com/github/refaaksi/Sentiment-Classification-on-Amazon-Reviews/blob/main/NLP_Amazon_Reviews.ipynb\" target=\"_parent\"><img src=\"https://colab.research.google.com/assets/colab-badge.svg\" alt=\"Open In Colab\"/></a>"
      ]
    },
    {
      "cell_type": "code",
      "metadata": {
        "id": "9i0lBfGs1BTw",
        "colab": {
          "base_uri": "https://localhost:8080/",
          "height": 53
        },
        "outputId": "45593615-3ec8-43c0-fdc9-b236924dbc9e"
      },
      "source": [
        "import shutil\n",
        "import os\n",
        "from google.colab import drive\n",
        "import tensorflow as tf\n",
        "drive.mount('/content/drive')\n",
        "\n",
        "cwd = os.getcwd()\n",
        "\n",
        "shutil.copy(\"drive/MyDrive/Kaggle/kaggle.json\",cwd)"
      ],
      "execution_count": 1,
      "outputs": [
        {
          "output_type": "stream",
          "name": "stdout",
          "text": [
            "Drive already mounted at /content/drive; to attempt to forcibly remount, call drive.mount(\"/content/drive\", force_remount=True).\n"
          ]
        },
        {
          "output_type": "execute_result",
          "data": {
            "application/vnd.google.colaboratory.intrinsic+json": {
              "type": "string"
            },
            "text/plain": [
              "'/content/kaggle.json'"
            ]
          },
          "metadata": {},
          "execution_count": 1
        }
      ]
    },
    {
      "cell_type": "code",
      "metadata": {
        "id": "RZO5Z7jezmhr",
        "colab": {
          "base_uri": "https://localhost:8080/"
        },
        "outputId": "06275842-6825-485e-c2ca-b6932f81c8f6"
      },
      "source": [
        "#Mengecek apakah tersedia TPU\n",
        "os.environ['TF_CPP_MIN_LOG_LEVEL'] = '2' \n",
        "\n",
        "print('Available TPUs: ', len(tf.config.list_logical_devices('TPU')))"
      ],
      "execution_count": 2,
      "outputs": [
        {
          "output_type": "stream",
          "name": "stdout",
          "text": [
            "Available TPUs:  0\n"
          ]
        }
      ]
    },
    {
      "cell_type": "code",
      "metadata": {
        "id": "-Xuj2WpJlK0g"
      },
      "source": [
        "#Menjalankan kaggle API\n",
        "! pip install -q kaggle\n",
        "! mkdir ~/.kaggle\n",
        "! cp kaggle.json ~/.kaggle/\n",
        "! chmod 600 ~/.kaggle/kaggle.json\n",
        "\n",
        "# Mendownload dataset Amazon reviews di kaggle\n",
        "! kaggle datasets download bittlingmayer/amazonreviews\n",
        "\n",
        "!unzip -q amazonreviews.zip"
      ],
      "execution_count": 3,
      "outputs": []
    },
    {
      "cell_type": "code",
      "metadata": {
        "id": "dG_l4KvIpndZ"
      },
      "source": [
        "import bz2\n",
        "\n",
        "train_file = bz2.BZ2File('train.ft.txt.bz2')\n",
        "test_file = bz2.BZ2File('test.ft.txt.bz2')\n",
        "\n",
        "train_file = train_file.readlines()\n",
        "test_file = test_file.readlines()"
      ],
      "execution_count": 6,
      "outputs": []
    },
    {
      "cell_type": "code",
      "metadata": {
        "id": "i3_nY1yXIqkg"
      },
      "source": [
        "# Hanya 10% data yang digunakan untuk melakukan training dan test\n",
        "pct = 0.1\n",
        "num_train = int(len(train_file)*pct) \n",
        "num_test = int(len(test_file)*pct) "
      ],
      "execution_count": 8,
      "outputs": []
    },
    {
      "cell_type": "code",
      "metadata": {
        "id": "hc50bM_gALco"
      },
      "source": [
        "# Membagi dataset menjadi train, validation, dan test\n",
        "train_set = [x.decode('utf-8') for x in train_file[:num_train]]\n",
        "val_set = [x.decode('utf-8') for x in train_file[num_train:num_train*2]]\n",
        "test_set = [x.decode('utf-8') for x in test_file[:num_test]]"
      ],
      "execution_count": 33,
      "outputs": []
    },
    {
      "cell_type": "code",
      "metadata": {
        "id": "SzFHwvIOid7G"
      },
      "source": [
        "# Memisahkan antara kalimat dengan label, serta melakukan preprosessing berupa lowercase\n",
        "train_labels = [0 if x.split(' ',1)[0] == '__label__1' else 1 for x in train_set[:]]\n",
        "train_sentences = [x.split(' ', 1)[1][:-1].lower() for x in train_set[:]]\n",
        "\n",
        "val_labels = [0 if x.split(' ',1)[0] == '__label__1' else 1 for x in val_set[:]]\n",
        "val_sentences = [x.split(' ', 1)[1][:-1].lower() for x in val_set[:]]\n",
        "\n",
        "test_labels = [0 if x.split(' ',1)[0] == '__label__1' else 1 for x in test_set[:]]\n",
        "test_sentences = [x.split(' ', 1)[1][:-1].lower() for x in test_set[:]]"
      ],
      "execution_count": 10,
      "outputs": []
    },
    {
      "cell_type": "code",
      "metadata": {
        "id": "ZZqq6dTZx1Jm"
      },
      "source": [
        "# Melakukan filtering untuk menghilangkan url\n",
        "import re,string\n",
        "for i in range(len(train_sentences)):\n",
        "  train_sentences[i] = re.sub(r\"([^ ]+(https|www)?\\w+\\.[a-z]{3}(/[^\\s]+)?)\", \"url\", train_sentences[i])\n",
        "\n",
        "for i in range(len(val_sentences)):\n",
        "  val_sentences[i] = re.sub(r\"([^ ]+(https|www)?\\w+\\.[a-z]{3}(/[^\\s]+)?)\", \"url\", val_sentences[i])\n",
        "\n",
        "for i in range(len(test_sentences)):\n",
        "  test_sentences[i] = re.sub(r\"([^ ]+(https|www)?\\w+\\.[a-z]{3}(/[^\\s]+)?)\", \"url\", test_sentences[i])"
      ],
      "execution_count": 12,
      "outputs": []
    },
    {
      "cell_type": "code",
      "metadata": {
        "id": "IxEwL0d-ZLoe",
        "colab": {
          "base_uri": "https://localhost:8080/"
        },
        "outputId": "ddd47bf9-b8fd-4fae-d57a-b5a0a47fb78e"
      },
      "source": [
        "print(train_labels[0])\n",
        "print(train_sentences[0])"
      ],
      "execution_count": 11,
      "outputs": [
        {
          "output_type": "stream",
          "name": "stdout",
          "text": [
            "1\n",
            "stuning even for the non-gamer: this sound track was beautiful! it paints the senery in your mind so well i would recomend it even to people who hate vid. game music! i have played the game chrono cross but out of all of the games i have ever played it has the best music! it backs away from crude keyboarding and takes a fresher step with grate guitars and soulful orchestras. it would impress anyone who cares to listen! ^_^\n"
          ]
        }
      ]
    },
    {
      "cell_type": "code",
      "metadata": {
        "id": "XSmXHlsnRkZi",
        "colab": {
          "base_uri": "https://localhost:8080/",
          "height": 157
        },
        "outputId": "b4c70c41-7477-4599-a5e9-de05ae94793a"
      },
      "source": [
        "\"\"\"\n",
        "([^ ]+(https|www)?\\w+\\.[a-z]{3}(/[^\\s]+)?) is regex expression to get the url string:\n",
        "\n",
        "1. [^ ]+        : Returns a match for any character EXCEPT whitespace (+ means it will accept any character taken one or more time, which is not in the list ), this is to get the url string that usually followed after the whitespace. THEN FOLLOWED BY\n",
        "2. (https|www)? : To get a url that is started with http/s OR www (? mean that this is optional, because no every url is started with http/www). THEN FOLLOWED BY\n",
        "3. \\w+          : To capture one or more (because of +) string character [a-zA-Z]. THEN FOLLOWED BY\n",
        "4. \\.           : a dot usually an url is string followed by dot (\\ means to distinguish the dot with regex special characters which is (.) that capture any characters except newline). THEN FOLLOWED BY\n",
        "5. [a-z]{3}     : any lowercase character from a-z with maximize of 3 characters, this to capture the domain of url (com, net, edu). THEN FOLLOWED BY\n",
        "6. (/[^s]+)?    : to capture characters \"/\" followed by any characters EXCEPT the whitespace (/s). ? mean that is optional because some url can end after .com\n",
        "\"\"\""
      ],
      "execution_count": 13,
      "outputs": [
        {
          "output_type": "execute_result",
          "data": {
            "application/vnd.google.colaboratory.intrinsic+json": {
              "type": "string"
            },
            "text/plain": [
              "'\\n([^ ]+(https|www)?\\\\w+\\\\.[a-z]{3}(/[^\\\\s]+)?) is regex expression to get the url string:\\n\\n1. [^ ]+        : Returns a match for any character EXCEPT whitespace (+ means it will accept any character taken one or more time, which is not in the list ), this is to get the url string that usually followed after the whitespace. THEN FOLLOWED BY\\n2. (https|www)? : To get a url that is started with http/s OR www (? mean that this is optional, because no every url is started with http/www). THEN FOLLOWED BY\\n3. \\\\w+          : To capture one or more (because of +) string character [a-zA-Z]. THEN FOLLOWED BY\\n4. \\\\.           : a dot usually an url is string followed by dot (\\\\ means to distinguish the dot with regex special characters which is (.) that capture any characters except newline). THEN FOLLOWED BY\\n5. [a-z]{3}     : any lowercase character from a-z with maximize of 3 characters, this to capture the domain of url (com, net, edu). THEN FOLLOWED BY\\n6. (/[^s]+)?    : to capture characters \"/\" followed by any characters EXCEPT the whitespace (/s). ? mean that is optional because some url can end after .com\\n'"
            ]
          },
          "metadata": {},
          "execution_count": 13
        }
      ]
    },
    {
      "cell_type": "code",
      "metadata": {
        "id": "WJJk2zMClSP6",
        "colab": {
          "base_uri": "https://localhost:8080/"
        },
        "outputId": "8c574b32-c3fa-4439-c86a-75cc710aea69"
      },
      "source": [
        "# Inisiasi TPU\n",
        "tpu = tf.distribute.cluster_resolver.TPUClusterResolver.connect()\n",
        "tpu_strata = tf.distribute.experimental.TPUStrategy(tpu)\n",
        "BATCH_SIZE = 16* tpu_strata.num_replicas_in_sync"
      ],
      "execution_count": 14,
      "outputs": [
        {
          "output_type": "stream",
          "name": "stdout",
          "text": [
            "INFO:tensorflow:Clearing out eager caches\n"
          ]
        },
        {
          "output_type": "stream",
          "name": "stderr",
          "text": [
            "INFO:tensorflow:Clearing out eager caches\n"
          ]
        },
        {
          "output_type": "stream",
          "name": "stdout",
          "text": [
            "INFO:tensorflow:Initializing the TPU system: grpc://10.79.241.162:8470\n"
          ]
        },
        {
          "output_type": "stream",
          "name": "stderr",
          "text": [
            "INFO:tensorflow:Initializing the TPU system: grpc://10.79.241.162:8470\n"
          ]
        },
        {
          "output_type": "stream",
          "name": "stdout",
          "text": [
            "INFO:tensorflow:Finished initializing TPU system.\n"
          ]
        },
        {
          "output_type": "stream",
          "name": "stderr",
          "text": [
            "INFO:tensorflow:Finished initializing TPU system.\n",
            "WARNING:absl:`tf.distribute.experimental.TPUStrategy` is deprecated, please use  the non experimental symbol `tf.distribute.TPUStrategy` instead.\n"
          ]
        },
        {
          "output_type": "stream",
          "name": "stdout",
          "text": [
            "INFO:tensorflow:Found TPU system:\n"
          ]
        },
        {
          "output_type": "stream",
          "name": "stderr",
          "text": [
            "INFO:tensorflow:Found TPU system:\n"
          ]
        },
        {
          "output_type": "stream",
          "name": "stdout",
          "text": [
            "INFO:tensorflow:*** Num TPU Cores: 8\n"
          ]
        },
        {
          "output_type": "stream",
          "name": "stderr",
          "text": [
            "INFO:tensorflow:*** Num TPU Cores: 8\n"
          ]
        },
        {
          "output_type": "stream",
          "name": "stdout",
          "text": [
            "INFO:tensorflow:*** Num TPU Workers: 1\n"
          ]
        },
        {
          "output_type": "stream",
          "name": "stderr",
          "text": [
            "INFO:tensorflow:*** Num TPU Workers: 1\n"
          ]
        },
        {
          "output_type": "stream",
          "name": "stdout",
          "text": [
            "INFO:tensorflow:*** Num TPU Cores Per Worker: 8\n"
          ]
        },
        {
          "output_type": "stream",
          "name": "stderr",
          "text": [
            "INFO:tensorflow:*** Num TPU Cores Per Worker: 8\n"
          ]
        },
        {
          "output_type": "stream",
          "name": "stdout",
          "text": [
            "INFO:tensorflow:*** Available Device: _DeviceAttributes(/job:localhost/replica:0/task:0/device:CPU:0, CPU, 0, 0)\n"
          ]
        },
        {
          "output_type": "stream",
          "name": "stderr",
          "text": [
            "INFO:tensorflow:*** Available Device: _DeviceAttributes(/job:localhost/replica:0/task:0/device:CPU:0, CPU, 0, 0)\n"
          ]
        },
        {
          "output_type": "stream",
          "name": "stdout",
          "text": [
            "INFO:tensorflow:*** Available Device: _DeviceAttributes(/job:worker/replica:0/task:0/device:CPU:0, CPU, 0, 0)\n"
          ]
        },
        {
          "output_type": "stream",
          "name": "stderr",
          "text": [
            "INFO:tensorflow:*** Available Device: _DeviceAttributes(/job:worker/replica:0/task:0/device:CPU:0, CPU, 0, 0)\n"
          ]
        },
        {
          "output_type": "stream",
          "name": "stdout",
          "text": [
            "INFO:tensorflow:*** Available Device: _DeviceAttributes(/job:worker/replica:0/task:0/device:TPU:0, TPU, 0, 0)\n"
          ]
        },
        {
          "output_type": "stream",
          "name": "stderr",
          "text": [
            "INFO:tensorflow:*** Available Device: _DeviceAttributes(/job:worker/replica:0/task:0/device:TPU:0, TPU, 0, 0)\n"
          ]
        },
        {
          "output_type": "stream",
          "name": "stdout",
          "text": [
            "INFO:tensorflow:*** Available Device: _DeviceAttributes(/job:worker/replica:0/task:0/device:TPU:1, TPU, 0, 0)\n"
          ]
        },
        {
          "output_type": "stream",
          "name": "stderr",
          "text": [
            "INFO:tensorflow:*** Available Device: _DeviceAttributes(/job:worker/replica:0/task:0/device:TPU:1, TPU, 0, 0)\n"
          ]
        },
        {
          "output_type": "stream",
          "name": "stdout",
          "text": [
            "INFO:tensorflow:*** Available Device: _DeviceAttributes(/job:worker/replica:0/task:0/device:TPU:2, TPU, 0, 0)\n"
          ]
        },
        {
          "output_type": "stream",
          "name": "stderr",
          "text": [
            "INFO:tensorflow:*** Available Device: _DeviceAttributes(/job:worker/replica:0/task:0/device:TPU:2, TPU, 0, 0)\n"
          ]
        },
        {
          "output_type": "stream",
          "name": "stdout",
          "text": [
            "INFO:tensorflow:*** Available Device: _DeviceAttributes(/job:worker/replica:0/task:0/device:TPU:3, TPU, 0, 0)\n"
          ]
        },
        {
          "output_type": "stream",
          "name": "stderr",
          "text": [
            "INFO:tensorflow:*** Available Device: _DeviceAttributes(/job:worker/replica:0/task:0/device:TPU:3, TPU, 0, 0)\n"
          ]
        },
        {
          "output_type": "stream",
          "name": "stdout",
          "text": [
            "INFO:tensorflow:*** Available Device: _DeviceAttributes(/job:worker/replica:0/task:0/device:TPU:4, TPU, 0, 0)\n"
          ]
        },
        {
          "output_type": "stream",
          "name": "stderr",
          "text": [
            "INFO:tensorflow:*** Available Device: _DeviceAttributes(/job:worker/replica:0/task:0/device:TPU:4, TPU, 0, 0)\n"
          ]
        },
        {
          "output_type": "stream",
          "name": "stdout",
          "text": [
            "INFO:tensorflow:*** Available Device: _DeviceAttributes(/job:worker/replica:0/task:0/device:TPU:5, TPU, 0, 0)\n"
          ]
        },
        {
          "output_type": "stream",
          "name": "stderr",
          "text": [
            "INFO:tensorflow:*** Available Device: _DeviceAttributes(/job:worker/replica:0/task:0/device:TPU:5, TPU, 0, 0)\n"
          ]
        },
        {
          "output_type": "stream",
          "name": "stdout",
          "text": [
            "INFO:tensorflow:*** Available Device: _DeviceAttributes(/job:worker/replica:0/task:0/device:TPU:6, TPU, 0, 0)\n"
          ]
        },
        {
          "output_type": "stream",
          "name": "stderr",
          "text": [
            "INFO:tensorflow:*** Available Device: _DeviceAttributes(/job:worker/replica:0/task:0/device:TPU:6, TPU, 0, 0)\n"
          ]
        },
        {
          "output_type": "stream",
          "name": "stdout",
          "text": [
            "INFO:tensorflow:*** Available Device: _DeviceAttributes(/job:worker/replica:0/task:0/device:TPU:7, TPU, 0, 0)\n"
          ]
        },
        {
          "output_type": "stream",
          "name": "stderr",
          "text": [
            "INFO:tensorflow:*** Available Device: _DeviceAttributes(/job:worker/replica:0/task:0/device:TPU:7, TPU, 0, 0)\n"
          ]
        },
        {
          "output_type": "stream",
          "name": "stdout",
          "text": [
            "INFO:tensorflow:*** Available Device: _DeviceAttributes(/job:worker/replica:0/task:0/device:TPU_SYSTEM:0, TPU_SYSTEM, 0, 0)\n"
          ]
        },
        {
          "output_type": "stream",
          "name": "stderr",
          "text": [
            "INFO:tensorflow:*** Available Device: _DeviceAttributes(/job:worker/replica:0/task:0/device:TPU_SYSTEM:0, TPU_SYSTEM, 0, 0)\n"
          ]
        },
        {
          "output_type": "stream",
          "name": "stdout",
          "text": [
            "INFO:tensorflow:*** Available Device: _DeviceAttributes(/job:worker/replica:0/task:0/device:XLA_CPU:0, XLA_CPU, 0, 0)\n"
          ]
        },
        {
          "output_type": "stream",
          "name": "stderr",
          "text": [
            "INFO:tensorflow:*** Available Device: _DeviceAttributes(/job:worker/replica:0/task:0/device:XLA_CPU:0, XLA_CPU, 0, 0)\n"
          ]
        }
      ]
    },
    {
      "cell_type": "code",
      "metadata": {
        "id": "iAeCamsPcvcZ",
        "colab": {
          "base_uri": "https://localhost:8080/"
        },
        "outputId": "db510dde-be36-45c6-9a27-13a979c4955e"
      },
      "source": [
        "import nltk\n",
        "from nltk.corpus import stopwords\n",
        "from nltk.stem import WordNetLemmatizer\n",
        "from nltk.corpus import wordnet as wn\n",
        "nltk.download('wordnet')\n",
        "nltk.download('averaged_perceptron_tagger')\n",
        "nltk.download('stopwords')\n",
        "\n",
        "# Melakukan lemmatization\n",
        "lemmatizer = WordNetLemmatizer()\n",
        "\n",
        "def lem(data):\n",
        "    pos_dict = {'N': wn.NOUN, 'V': wn.VERB, 'J': wn.ADJ, 'R': wn.ADV}\n",
        "    return(' '.join([lemmatizer.lemmatize(w,pos_dict.get(t[0], wn.NOUN)) for w,t in nltk.pos_tag(data.split())]))\n",
        "\n",
        "st_words = stopwords.words()\n",
        "def stopword(data):\n",
        "    return(' '.join([w for w in data.split() if W not in st_words]))\n",
        "with tpu_strata.scope():\n",
        "  train_sentences = [lem(train_sentences[i]) for i in range(len(train_sentences))]\n",
        "  val_sentences = [lem(val_sentences[i]) for i in range(len(val_sentences))]\n",
        "  test_sentences = [lem(test_sentences[i]) for i in range(len(test_sentences))]"
      ],
      "execution_count": 15,
      "outputs": [
        {
          "output_type": "stream",
          "name": "stdout",
          "text": [
            "[nltk_data] Downloading package wordnet to /root/nltk_data...\n",
            "[nltk_data]   Unzipping corpora/wordnet.zip.\n",
            "[nltk_data] Downloading package averaged_perceptron_tagger to\n",
            "[nltk_data]     /root/nltk_data...\n",
            "[nltk_data]   Unzipping taggers/averaged_perceptron_tagger.zip.\n",
            "[nltk_data] Downloading package stopwords to /root/nltk_data...\n",
            "[nltk_data]   Unzipping corpora/stopwords.zip.\n"
          ]
        }
      ]
    },
    {
      "cell_type": "code",
      "metadata": {
        "id": "syd2dt3_nhJ0"
      },
      "source": [
        "# Menambahkan Start of Sentences Token (sostoken) dan End of Sentences Token (eostoken)\n",
        "for i in range(len(train_sentences)):\n",
        "  train_sentences[i] = \"<sostoken> \" + train_sentences[i] + \" <eostoken>\"\n",
        "\n",
        "for i in range(len(val_sentences)):\n",
        "  val_sentences[i] = \"<sostoken> \" + val_sentences[i] + \" <eostoken>\"\n",
        "\n",
        "for i in range(len(test_sentences)):\n",
        "  test_sentences[i] = \"<sostoken> \" + test_sentences[i] + \" <eostoken>\""
      ],
      "execution_count": 16,
      "outputs": []
    },
    {
      "cell_type": "code",
      "metadata": {
        "id": "HGZ51nODgGW8",
        "colab": {
          "base_uri": "https://localhost:8080/"
        },
        "outputId": "8f02b280-fa51-4a0f-ff74-989300492704"
      },
      "source": [
        "# Mencari kalimat yang paling panjang\n",
        "num_len = 0\n",
        "max_len = 0\n",
        "a = 0\n",
        "for i in range(len(train_sentences)):\n",
        "  num_len = len(train_sentences[i].split(\" \"))\n",
        "  if num_len > max_len:\n",
        "    max_len = num_len\n",
        "    a = i\n",
        "print(train_sentences[0].split(\" \"))"
      ],
      "execution_count": 17,
      "outputs": [
        {
          "output_type": "stream",
          "name": "stdout",
          "text": [
            "['<sostoken>', 'stun', 'even', 'for', 'the', 'non-gamer:', 'this', 'sound', 'track', 'be', 'beautiful!', 'it', 'paint', 'the', 'senery', 'in', 'your', 'mind', 'so', 'well', 'i', 'would', 'recomend', 'it', 'even', 'to', 'people', 'who', 'hate', 'vid.', 'game', 'music!', 'i', 'have', 'play', 'the', 'game', 'chrono', 'cross', 'but', 'out', 'of', 'all', 'of', 'the', 'game', 'i', 'have', 'ever', 'play', 'it', 'have', 'the', 'best', 'music!', 'it', 'back', 'away', 'from', 'crude', 'keyboarding', 'and', 'take', 'a', 'fresh', 'step', 'with', 'grate', 'guitar', 'and', 'soulful', 'orchestras.', 'it', 'would', 'impress', 'anyone', 'who', 'care', 'to', 'listen!', '^_^', '<eostoken>']\n"
          ]
        }
      ]
    },
    {
      "cell_type": "code",
      "metadata": {
        "id": "tNvwUCmUegRU"
      },
      "source": [
        "import tensorflow as tf\n",
        "from tensorflow.keras.layers.experimental.preprocessing import TextVectorization\n",
        "import numpy as np\n",
        "\n",
        "# Melakukan tokenization\n",
        "max_features = 4096\n",
        "\n",
        "vectorize_layer = TextVectorization(\n",
        "    standardize ='lower_and_strip_punctuation',\n",
        "    max_tokens=max_features,\n",
        "    output_mode='int',\n",
        "    output_sequence_length=max_len)"
      ],
      "execution_count": 18,
      "outputs": []
    },
    {
      "cell_type": "code",
      "metadata": {
        "id": "n-GVo9TRiMtP",
        "colab": {
          "base_uri": "https://localhost:8080/"
        },
        "outputId": "c40b5579-6810-4f05-ea4f-eeedf86dcfde"
      },
      "source": [
        "vectorize_layer.adapt(train_sentences)\n",
        "x_train = vectorize_layer(train_sentences)\n",
        "y_train = np.array(train_labels)\n",
        "\n",
        "x_val = vectorize_layer(val_sentences)\n",
        "y_val = np.array(val_labels)\n",
        "\n",
        "x_test = vectorize_layer(test_sentences)\n",
        "y_test = np.array(test_labels)\n",
        "x_train[0]"
      ],
      "execution_count": 20,
      "outputs": [
        {
          "output_type": "execute_result",
          "data": {
            "text/plain": [
              "<tf.Tensor: shape=(243,), dtype=int64, numpy=\n",
              "array([  11, 3608,   78,   15,    2,    1,   10,  137,  259,    3,  355,\n",
              "          9, 1253,    2,    1,   13,   66,  390,   30,   68,    6,   44,\n",
              "       1496,    9,   78,    7,  128,   72,  571,    1,  185,  123,    6,\n",
              "         14,  147,    2,  185,    1, 1498,   20,   45,    8,   29,    8,\n",
              "          2,  185,    6,   14,  121,  147,    9,   14,    2,   86,  123,\n",
              "          9,  126,  240,   39, 3804,    1,    5,   99,    4, 1076,  814,\n",
              "         21,    1,  641,    5, 3520,    1,    9,   44, 1678,  201,   72,\n",
              "        423,    7,  188,   12,    0,    0,    0,    0,    0,    0,    0,\n",
              "          0,    0,    0,    0,    0,    0,    0,    0,    0,    0,    0,\n",
              "          0,    0,    0,    0,    0,    0,    0,    0,    0,    0,    0,\n",
              "          0,    0,    0,    0,    0,    0,    0,    0,    0,    0,    0,\n",
              "          0,    0,    0,    0,    0,    0,    0,    0,    0,    0,    0,\n",
              "          0,    0,    0,    0,    0,    0,    0,    0,    0,    0,    0,\n",
              "          0,    0,    0,    0,    0,    0,    0,    0,    0,    0,    0,\n",
              "          0,    0,    0,    0,    0,    0,    0,    0,    0,    0,    0,\n",
              "          0,    0,    0,    0,    0,    0,    0,    0,    0,    0,    0,\n",
              "          0,    0,    0,    0,    0,    0,    0,    0,    0,    0,    0,\n",
              "          0,    0,    0,    0,    0,    0,    0,    0,    0,    0,    0,\n",
              "          0,    0,    0,    0,    0,    0,    0,    0,    0,    0,    0,\n",
              "          0,    0,    0,    0,    0,    0,    0,    0,    0,    0,    0,\n",
              "          0,    0,    0,    0,    0,    0,    0,    0,    0,    0,    0,\n",
              "          0,    0,    0,    0,    0,    0,    0,    0,    0,    0,    0,\n",
              "          0])>"
            ]
          },
          "metadata": {},
          "execution_count": 20
        }
      ]
    },
    {
      "cell_type": "code",
      "metadata": {
        "id": "JgxFZqp8mLTS",
        "colab": {
          "base_uri": "https://localhost:8080/"
        },
        "outputId": "2dc579f4-0fd1-4c2f-8865-c2005c73a46e"
      },
      "source": [
        "# Membuat model \n",
        "with tpu_strata.scope():\n",
        "    model = tf.keras.Sequential([\n",
        "        tf.keras.layers.Embedding(max_features, 64, input_length= max_len),\n",
        "        tf.keras.layers.Bidirectional(tf.keras.layers.LSTM(32)),\n",
        "        tf.keras.layers.Dense(128, activation = 'relu'),\n",
        "        tf.keras.layers.Dropout(0.2),\n",
        "        tf.keras.layers.Dense(1, activation = 'sigmoid')\n",
        "\n",
        "    ])\n",
        "    model.compile(optimizer=tf.keras.optimizers.Adam(learning_rate=0.0001), metrics=['accuracy'], loss='binary_crossentropy',steps_per_execution=16)\n",
        "model.summary()"
      ],
      "execution_count": 27,
      "outputs": [
        {
          "output_type": "stream",
          "name": "stdout",
          "text": [
            "Model: \"sequential_1\"\n",
            "_________________________________________________________________\n",
            "Layer (type)                 Output Shape              Param #   \n",
            "=================================================================\n",
            "embedding_1 (Embedding)      (None, 243, 64)           262144    \n",
            "_________________________________________________________________\n",
            "bidirectional_1 (Bidirection (None, 64)                24832     \n",
            "_________________________________________________________________\n",
            "dense_2 (Dense)              (None, 128)               8320      \n",
            "_________________________________________________________________\n",
            "dropout_1 (Dropout)          (None, 128)               0         \n",
            "_________________________________________________________________\n",
            "dense_3 (Dense)              (None, 1)                 129       \n",
            "=================================================================\n",
            "Total params: 295,425\n",
            "Trainable params: 295,425\n",
            "Non-trainable params: 0\n",
            "_________________________________________________________________\n"
          ]
        }
      ]
    },
    {
      "cell_type": "code",
      "metadata": {
        "id": "WQQc2hpwwY0W"
      },
      "source": [
        "es = tf.keras.callbacks.EarlyStopping(monitor=\"val_loss\",patience = 2)"
      ],
      "execution_count": 28,
      "outputs": []
    },
    {
      "cell_type": "code",
      "metadata": {
        "id": "E7bjd6Ouwi9_",
        "colab": {
          "base_uri": "https://localhost:8080/"
        },
        "outputId": "b27ce1e1-0b06-46ff-e8d2-6ecf7fa62121"
      },
      "source": [
        "# model fit\n",
        "history = model.fit(x_train,\n",
        "                    y_train, \n",
        "                    batch_size=BATCH_SIZE, \n",
        "                    epochs=20,\n",
        "                    verbose=1,\n",
        "                    validation_data = (x_val, y_val),\n",
        "                    callbacks=es) "
      ],
      "execution_count": 29,
      "outputs": [
        {
          "output_type": "stream",
          "name": "stdout",
          "text": [
            "Epoch 1/20\n",
            "2813/2813 [==============================] - 195s 69ms/step - loss: 0.3206 - accuracy: 0.8579 - val_loss: 0.2519 - val_accuracy: 0.8992\n",
            "Epoch 2/20\n",
            "2813/2813 [==============================] - 174s 62ms/step - loss: 0.2421 - accuracy: 0.9045 - val_loss: 0.2410 - val_accuracy: 0.9041\n",
            "Epoch 3/20\n",
            "2813/2813 [==============================] - 174s 62ms/step - loss: 0.2331 - accuracy: 0.9080 - val_loss: 0.2357 - val_accuracy: 0.9060\n",
            "Epoch 4/20\n",
            "2813/2813 [==============================] - 174s 62ms/step - loss: 0.2241 - accuracy: 0.9120 - val_loss: 0.2288 - val_accuracy: 0.9082\n",
            "Epoch 5/20\n",
            "2813/2813 [==============================] - 174s 62ms/step - loss: 0.2136 - accuracy: 0.9159 - val_loss: 0.2196 - val_accuracy: 0.9118\n",
            "Epoch 6/20\n",
            "2813/2813 [==============================] - 173s 62ms/step - loss: 0.2040 - accuracy: 0.9197 - val_loss: 0.2120 - val_accuracy: 0.9154\n",
            "Epoch 7/20\n",
            "2813/2813 [==============================] - 174s 62ms/step - loss: 0.1954 - accuracy: 0.9233 - val_loss: 0.2059 - val_accuracy: 0.9173\n",
            "Epoch 8/20\n",
            "2813/2813 [==============================] - 173s 62ms/step - loss: 0.1873 - accuracy: 0.9267 - val_loss: 0.2018 - val_accuracy: 0.9197\n",
            "Epoch 9/20\n",
            "2813/2813 [==============================] - 174s 62ms/step - loss: 0.1806 - accuracy: 0.9294 - val_loss: 0.1992 - val_accuracy: 0.9215\n",
            "Epoch 10/20\n",
            "2813/2813 [==============================] - 174s 62ms/step - loss: 0.1751 - accuracy: 0.9321 - val_loss: 0.1964 - val_accuracy: 0.9222\n",
            "Epoch 11/20\n",
            "2813/2813 [==============================] - 173s 62ms/step - loss: 0.1696 - accuracy: 0.9345 - val_loss: 0.1968 - val_accuracy: 0.9230\n",
            "Epoch 12/20\n",
            "2813/2813 [==============================] - 174s 62ms/step - loss: 0.1653 - accuracy: 0.9363 - val_loss: 0.1927 - val_accuracy: 0.9244\n",
            "Epoch 13/20\n",
            "2813/2813 [==============================] - 173s 62ms/step - loss: 0.1609 - accuracy: 0.9385 - val_loss: 0.1966 - val_accuracy: 0.9230\n",
            "Epoch 14/20\n",
            "2813/2813 [==============================] - 174s 62ms/step - loss: 0.1567 - accuracy: 0.9402 - val_loss: 0.1958 - val_accuracy: 0.9245\n"
          ]
        }
      ]
    },
    {
      "cell_type": "code",
      "metadata": {
        "id": "uBQ_Od_Z9_Qx",
        "colab": {
          "base_uri": "https://localhost:8080/",
          "height": 295
        },
        "outputId": "a1df14b4-d0ad-4524-bd71-68aab8c7f355"
      },
      "source": [
        "from matplotlib import pyplot as plt\n",
        "import matplotlib.pyplot as plt\n",
        "import matplotlib.image as mpimg\n",
        "%matplotlib inline\n",
        "#Memplot accuracy data train & validation\n",
        "plt.plot(history.history['accuracy'], label='Training Accuracy')\n",
        "plt.plot(history.history['val_accuracy'], label='Validation Accucracy')\n",
        "plt.title('Acc Plot')\n",
        "plt.ylabel('Value')\n",
        "plt.xlabel('Epoch')\n",
        "plt.legend(loc=\"upper right\")\n",
        "plt.show()"
      ],
      "execution_count": 30,
      "outputs": [
        {
          "output_type": "display_data",
          "data": {
            "image/png": "[encoded data removed]",
            "text/plain": [
              "<Figure size 432x288 with 1 Axes>"
            ]
          },
          "metadata": {
            "needs_background": "light"
          }
        }
      ]
    },
    {
      "cell_type": "code",
      "metadata": {
        "id": "tMY4P-iQ-AZr",
        "colab": {
          "base_uri": "https://localhost:8080/",
          "height": 295
        },
        "outputId": "9d222519-9a35-44c7-d157-b608825435d0"
      },
      "source": [
        "from matplotlib import pyplot as plt\n",
        "import matplotlib.pyplot as plt\n",
        "import matplotlib.image as mpimg\n",
        "%matplotlib inline\n",
        "#Memplot nilai loss data train & validation\n",
        "plt.plot(history.history['loss'], label='Training Loss')\n",
        "plt.plot(history.history['val_loss'], label='Validation Loss')\n",
        "plt.title('Loss Plot')\n",
        "plt.ylabel('Value')\n",
        "plt.xlabel('Epoch')\n",
        "plt.legend(loc=\"upper right\")\n",
        "plt.show()"
      ],
      "execution_count": 31,
      "outputs": [
        {
          "output_type": "display_data",
          "data": {
            "image/png": "[encoded data removed]",
            "text/plain": [
              "<Figure size 432x288 with 1 Axes>"
            ]
          },
          "metadata": {
            "needs_background": "light"
          }
        }
      ]
    },
    {
      "cell_type": "code",
      "metadata": {
        "id": "80FeJd56UYwp",
        "colab": {
          "base_uri": "https://localhost:8080/"
        },
        "outputId": "36a4b6cc-ee3e-4830-91ae-23d0706e1c8f"
      },
      "source": [
        "# Menguji keakuratan model dalam memprediksi data test\n",
        "model.evaluate(x_test, y_test, batch_size=BATCH_SIZE)"
      ],
      "execution_count": 32,
      "outputs": [
        {
          "output_type": "stream",
          "name": "stdout",
          "text": [
            "313/313 [==============================] - 3s 10ms/step - loss: 0.2008 - accuracy: 0.9239\n"
          ]
        },
        {
          "output_type": "execute_result",
          "data": {
            "text/plain": [
              "[0.20076186954975128, 0.9238749742507935]"
            ]
          },
          "metadata": {},
          "execution_count": 32
        }
      ]
    }
  ]
}